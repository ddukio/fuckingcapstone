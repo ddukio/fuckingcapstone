{
  "cells": [
    {
      "cell_type": "markdown",
      "metadata": {
        "id": "view-in-github",
        "colab_type": "text"
      },
      "source": [
        "<a href=\"https://colab.research.google.com/github/ddukio/fuckingcapstone/blob/main/%EC%A0%84%EA%B3%B5%EC%BA%A1%EC%8A%A4%ED%86%A4%EC%BD%94%EB%93%9C3.ipynb\" target=\"_parent\"><img src=\"https://colab.research.google.com/assets/colab-badge.svg\" alt=\"Open In Colab\"/></a>"
      ]
    },
    {
      "cell_type": "code",
      "execution_count": null,
      "metadata": {
        "colab": {
          "base_uri": "https://localhost:8080/"
        },
        "id": "R_-dWQXQitGm",
        "outputId": "2a6d019e-4df0-4288-b2a7-40a2244da6b3"
      },
      "outputs": [
        {
          "name": "stdout",
          "output_type": "stream",
          "text": [
            "Mounted at /content/drive\n"
          ]
        }
      ],
      "source": [
        "from google.colab import drive\n",
        "drive.mount('/content/drive')"
      ]
    },
    {
      "cell_type": "code",
      "execution_count": null,
      "metadata": {
        "id": "yt_fvaKOmHGW"
      },
      "outputs": [],
      "source": [
        "# Training 데이터 처리\n",
        "training_data = []\n",
        "\n",
        "for file_name in os.listdir('/content/drive/MyDrive/Training1/1.원천데이터(Training)/TS1/정상'):\n",
        "    if file_name.endswith(\".jpg\"):\n",
        "        image_path = os.path.join('/content/drive/MyDrive/Training1/1.원천데이터(Training)/TS1/정상', file_name)\n",
        "        class_label = 0  # 정상\n",
        "        training_data.append((image_path, class_label))\n",
        "\n",
        "# Validation 데이터 처리\n",
        "validation_data = []\n",
        "\n",
        "for file_name in os.listdir('/content/drive/MyDrive/Validation1/1. 원천데이터(Validation)/VS1/정상'):\n",
        "    if file_name.endswith(\".jpg\"):\n",
        "        image_path = os.path.join('/content/drive/MyDrive/Validation1/1. 원천데이터(Validation)/VS1/정상', file_name)\n",
        "        class_label = 0  # 정상\n",
        "        validation_data.append((image_path, class_label))\n"
      ]
    },
    {
      "cell_type": "code",
      "execution_count": null,
      "metadata": {
        "colab": {
          "background_save": true,
          "base_uri": "https://localhost:8080/"
        },
        "id": "4y6jpdV2mXgD",
        "outputId": "9d6d48df-1ec7-4054-8a4f-3cc305582b77"
      },
      "outputs": [
        {
          "metadata": {
            "tags": null
          },
          "name": "stdout",
          "output_type": "stream",
          "text": [
            "Found 5014 images belonging to 2 classes.\n",
            "Found 12058 images belonging to 2 classes.\n",
            "Epoch 1/10\n",
            "157/157 [==============================] - ETA: 0s - loss: 0.0036 - accuracy: 1.0000 "
          ]
        }
      ],
      "source": [
        "import tensorflow as tf\n",
        "from tensorflow.keras.preprocessing.image import ImageDataGenerator\n",
        "\n",
        "# 이미지 데이터 증강을 위한 설정\n",
        "train_data_generator = ImageDataGenerator(rescale=1./255,  # 이미지 스케일링\n",
        "                                          rotation_range=20,  # 회전\n",
        "                                          width_shift_range=0.2,  # 가로 이동\n",
        "                                          height_shift_range=0.2,  # 세로 이동\n",
        "                                          shear_range=0.2,  # 전단 변환\n",
        "                                          zoom_range=0.2,  # 확대/축소\n",
        "                                          horizontal_flip=True)  # 좌우 반전\n",
        "\n",
        "validation_data_generator = ImageDataGenerator(rescale=1./255)\n",
        "\n",
        "# 학습 및 검증 데이터 제네레이터 생성\n",
        "train_generator = train_data_generator.flow_from_directory('/content/drive/MyDrive/Training1',\n",
        "                                                           target_size=(224, 224),\n",
        "                                                           batch_size=32,\n",
        "                                                           class_mode='binary')\n",
        "\n",
        "validation_generator = validation_data_generator.flow_from_directory('/content/drive/MyDrive/Validation1',\n",
        "                                                                     target_size=(224, 224),\n",
        "                                                                     batch_size=32,\n",
        "                                                                     class_mode='binary')\n",
        "\n",
        "# 모델 생성 및 컴파일\n",
        "model = tf.keras.models.Sequential([\n",
        "    tf.keras.layers.Conv2D(32, (3, 3), activation='relu', input_shape=(224, 224, 3)),\n",
        "    tf.keras.layers.MaxPooling2D(2, 2),\n",
        "    tf.keras.layers.Flatten(),\n",
        "    tf.keras.layers.Dense(128, activation='relu'),\n",
        "    tf.keras.layers.Dense(1, activation='sigmoid')\n",
        "])\n",
        "\n",
        "model.compile(optimizer='adam',\n",
        "              loss='binary_crossentropy',\n",
        "              metrics=['accuracy'])\n",
        "\n",
        "# 모델 학습\n",
        "model.fit(train_generator,\n",
        "          steps_per_epoch=len(train_generator),\n",
        "          epochs=10,\n",
        "          validation_data=validation_generator,\n",
        "          validation_steps=len(validation_generator))\n"
      ]
    }
  ],
  "metadata": {
    "colab": {
      "provenance": [],
      "mount_file_id": "1RaOPYON8ki26_Eiqpf-sH6BJUvEQVAeW",
      "authorship_tag": "ABX9TyNDWzUacodIkpU6AYHORUG1",
      "include_colab_link": true
    },
    "kernelspec": {
      "display_name": "Python 3",
      "name": "python3"
    },
    "language_info": {
      "name": "python"
    }
  },
  "nbformat": 4,
  "nbformat_minor": 0
}